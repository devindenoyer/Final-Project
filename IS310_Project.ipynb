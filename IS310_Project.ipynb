{
 "cells": [
  {
   "cell_type": "markdown",
   "id": "6ca80806",
   "metadata": {},
   "source": [
    "## IS 310 Project"
   ]
  },
  {
   "cell_type": "code",
   "execution_count": 2,
   "id": "01fb19f5",
   "metadata": {},
   "outputs": [],
   "source": [
    "#initialization cell\n",
    "import numpy as np\n",
    "import pandas as pd"
   ]
  }
 ],
 "metadata": {
  "kernelspec": {
   "display_name": "Python 3 (ipykernel)",
   "language": "python",
   "name": "python3"
  },
  "language_info": {
   "codemirror_mode": {
    "name": "ipython",
    "version": 3
   },
   "file_extension": ".py",
   "mimetype": "text/x-python",
   "name": "python",
   "nbconvert_exporter": "python",
   "pygments_lexer": "ipython3",
   "version": "3.9.6"
  }
 },
 "nbformat": 4,
 "nbformat_minor": 5
}
